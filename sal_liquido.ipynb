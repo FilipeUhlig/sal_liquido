{
 "cells": [
  {
   "cell_type": "markdown",
   "id": "3cebdfc9",
   "metadata": {},
   "source": [
    "### dado o n´umero de horas trabalhadas por um empregado de uma empresa que paga R$20,00 por hora trabalhada e desconta imposto de renda (ir) segundo a tabela abaixo, determine o sal´ario l´ıquido do empregado."
   ]
  },
  {
   "cell_type": "code",
   "execution_count": 7,
   "id": "3d9849fa",
   "metadata": {},
   "outputs": [],
   "source": [
    "w = 0\n",
    "h = 0"
   ]
  },
  {
   "cell_type": "code",
   "execution_count": 8,
   "id": "836f0510",
   "metadata": {},
   "outputs": [
    {
     "name": "stdout",
     "output_type": "stream",
     "text": [
      "Quantas horas são trabalhadas? 192\n"
     ]
    }
   ],
   "source": [
    "h = float(input(\"Quantas horas são trabalhadas? \"))"
   ]
  },
  {
   "cell_type": "code",
   "execution_count": 9,
   "id": "e1f9c5d8",
   "metadata": {},
   "outputs": [],
   "source": [
    "w = (h*20)"
   ]
  },
  {
   "cell_type": "code",
   "execution_count": 11,
   "id": "8e83e046",
   "metadata": {},
   "outputs": [
    {
     "name": "stdout",
     "output_type": "stream",
     "text": [
      "Seu salário líquido é de 3072.0.\n"
     ]
    }
   ],
   "source": [
    "if w <= 1000:\n",
    "    wl = w\n",
    "    print(f\"Seu salário líquido é de {wl}.\")\n",
    "    \n",
    "elif 1000 < w <= 2500:\n",
    "    wl = w * 0.9\n",
    "    print(f\"Seu salário líquido é de {wl}.\")\n",
    "    \n",
    "elif 2500 < w <= 5000:\n",
    "    wl = w * 0.8\n",
    "    print(f\"Seu salário líquido é de {wl}.\")\n",
    "    \n",
    "else:\n",
    "    wl = w * 0.65\n",
    "    print(f\"Seu salário líquido é de {wl}.\")"
   ]
  },
  {
   "cell_type": "code",
   "execution_count": null,
   "id": "634ac5d8",
   "metadata": {},
   "outputs": [],
   "source": []
  }
 ],
 "metadata": {
  "kernelspec": {
   "display_name": "Python 3 (ipykernel)",
   "language": "python",
   "name": "python3"
  },
  "language_info": {
   "codemirror_mode": {
    "name": "ipython",
    "version": 3
   },
   "file_extension": ".py",
   "mimetype": "text/x-python",
   "name": "python",
   "nbconvert_exporter": "python",
   "pygments_lexer": "ipython3",
   "version": "3.10.9"
  }
 },
 "nbformat": 4,
 "nbformat_minor": 5
}
